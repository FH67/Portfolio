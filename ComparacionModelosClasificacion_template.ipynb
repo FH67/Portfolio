{
 "cells": [
  {
   "cell_type": "code",
   "execution_count": 2,
   "metadata": {},
   "outputs": [],
   "source": [
    "import numpy as np\n",
    "import pandas as pd\n",
    "from pandas import read_csv\n",
    "from matplotlib import pyplot\n",
    "from sklearn.model_selection import train_test_split\n",
    "from sklearn.model_selection import cross_val_score\n",
    "from sklearn.model_selection import StratifiedKFold\n",
    "from sklearn.ensemble import RandomForestClassifier\n",
    "from sklearn.neighbors import KNeighborsClassifier\n",
    "from sklearn.naive_bayes import GaussianNB\n",
    "from sklearn.svm import SVC\n",
    "from sklearn.neural_network import MLPClassifier"
   ]
  },
  {
   "cell_type": "code",
   "execution_count": 8,
   "metadata": {},
   "outputs": [],
   "source": [
    "# inicializamos la semilla para generar numeros aleatorios\n",
    "seed=np.random.seed(0)\n",
    "\n",
    "\n",
    "# cargamos el dataset\n",
    "url= \"https://www.openml.org/data/get_csv/61/dataset_61_iris.arff\"\n",
    "ds=read_csv(url)"
   ]
  },
  {
   "cell_type": "code",
   "execution_count": 18,
   "metadata": {},
   "outputs": [
    {
     "name": "stdout",
     "output_type": "stream",
     "text": [
      "RF:0.950000(0.040825)\n",
      "KNN:0.958333(0.041667)\n",
      "NB:0.950000(0.055277)\n",
      "SVM:0.983333(0.033333)\n"
     ]
    },
    {
     "name": "stderr",
     "output_type": "stream",
     "text": [
      "c:\\Users\\ferna\\AppData\\Local\\Programs\\Python\\Python312\\Lib\\site-packages\\sklearn\\neural_network\\_multilayer_perceptron.py:545: ConvergenceWarning: lbfgs failed to converge (status=2):\n",
      "ABNORMAL_TERMINATION_IN_LNSRCH.\n",
      "\n",
      "Increase the number of iterations (max_iter) or scale the data as shown in:\n",
      "    https://scikit-learn.org/stable/modules/preprocessing.html\n",
      "  self.n_iter_ = _check_optimize_result(\"lbfgs\", opt_res, self.max_iter)\n",
      "c:\\Users\\ferna\\AppData\\Local\\Programs\\Python\\Python312\\Lib\\site-packages\\sklearn\\neural_network\\_multilayer_perceptron.py:545: ConvergenceWarning: lbfgs failed to converge (status=2):\n",
      "ABNORMAL_TERMINATION_IN_LNSRCH.\n",
      "\n",
      "Increase the number of iterations (max_iter) or scale the data as shown in:\n",
      "    https://scikit-learn.org/stable/modules/preprocessing.html\n",
      "  self.n_iter_ = _check_optimize_result(\"lbfgs\", opt_res, self.max_iter)\n"
     ]
    },
    {
     "name": "stdout",
     "output_type": "stream",
     "text": [
      "MLP:0.958333(0.055902)\n"
     ]
    },
    {
     "name": "stderr",
     "output_type": "stream",
     "text": [
      "C:\\Users\\ferna\\AppData\\Local\\Temp\\ipykernel_25160\\3770142819.py:29: MatplotlibDeprecationWarning: The 'labels' parameter of boxplot() has been renamed 'tick_labels' since Matplotlib 3.9; support for the old name will be dropped in 3.11.\n",
      "  pyplot.boxplot(results, labels=names)\n"
     ]
    },
    {
     "data": {
      "image/png": "[encoded data removed]",
      "text/plain": [
       "<Figure size 640x480 with 1 Axes>"
      ]
     },
     "metadata": {},
     "output_type": "display_data"
    }
   ],
   "source": [
    "# Dividimos el dataset en 80% de los datos para entrenar y 20% para testear\n",
    "array = ds.values\n",
    "x= array[:,0:4]\n",
    "y= array[:,4]\n",
    "\n",
    "x_train, x_validation, y_train, y_validation = train_test_split(x,y,test_size=0.2,random_state=1, shuffle=True)\n",
    "\n",
    "# cargamos algoritmos\n",
    "models=[]\n",
    "\n",
    "models.append((\"RF\", RandomForestClassifier(n_jobs=2,random_state=seed)))\n",
    "models.append((\"KNN\", KNeighborsClassifier()))\n",
    "models.append((\"NB\", GaussianNB()))\n",
    "models.append((\"SVM\", SVC(gamma='auto')))\n",
    "models.append((\"MLP\", MLPClassifier(activation=\"relu\", alpha=1e-05, batch_size=\"auto\", beta_2=0.999, early_stopping=False, epsilon=1e-08, hidden_layer_sizes=(3,3), learning_rate=\"constant\", learning_rate_init=0.001, max_iter=200, momentum=0.9, nesterovs_momentum=True, power_t=0.5, random_state=1, shuffle=True, solver=\"lbfgs\", tol=0.0001, validation_fraction=0.1, verbose=False,warm_start=False)))\n",
    "\n",
    "# evaluamos cada modelo por turnos\n",
    "results= []\n",
    "names = []\n",
    "\n",
    "for name, model in models:\n",
    "    kfold= StratifiedKFold(n_splits=10, random_state=1,shuffle=True)\n",
    "    cv_results= cross_val_score(model,x_train,y_train,cv=kfold,scoring='accuracy')\n",
    "    results.append(cv_results)\n",
    "    names.append(name)\n",
    "    print('%s:%f(%f)' % (name, cv_results.mean(),cv_results.std()))\n",
    "\n",
    "# comprobacion de algoritmos\n",
    "pyplot.boxplot(results, labels=names)\n",
    "pyplot.title('Comparacion de algoritmos')\n",
    "pyplot.show()"
   ]
  },
  {
   "cell_type": "code",
   "execution_count": null,
   "metadata": {},
   "outputs": [],
   "source": []
  }
 ],
 "metadata": {
  "kernelspec": {
   "display_name": "Python 3",
   "language": "python",
   "name": "python3"
  },
  "language_info": {
   "codemirror_mode": {
    "name": "ipython",
    "version": 3
   },
   "file_extension": ".py",
   "mimetype": "text/x-python",
   "name": "python",
   "nbconvert_exporter": "python",
   "pygments_lexer": "ipython3",
   "version": "3.12.2"
  }
 },
 "nbformat": 4,
 "nbformat_minor": 2
}
